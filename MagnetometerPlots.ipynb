{
 "cells": [
  {
   "cell_type": "code",
   "execution_count": null,
   "metadata": {},
   "outputs": [],
   "source": [
    "# setup\n",
    "from bokeh.plotting import figure, show, output_notebook\n",
    "from bokeh.models import (\n",
    "    ColumnDataSource, Range1d, DataRange1d, DatetimeAxis,\n",
    "    TickFormatter, DatetimeTickFormatter, FuncTickFormatter,\n",
    "    Grid, Legend, Plot, BoxAnnotation, Span, CustomJS, Rect, Circle, Line,\n",
    "    HoverTool, BoxZoomTool, PanTool, WheelZoomTool,\n",
    "    WMTSTileSource, LabelSet\n",
    "    )\n",
    "from bokeh.models.widgets import DataTable, DateFormatter, TableColumn, Div\n",
    "\n",
    "import numpy as np\n",
    "import sys\n",
    "import os\n",
    "\n",
    "sys.path.append(os.path.join(os.getcwd(), 'plot_app'))\n",
    "from pyulog import *\n",
    "from pyulog.px4 import *\n",
    "from plotting import *\n",
    "from config import *\n",
    "from notebook_helper import *\n",
    "\n",
    "output_notebook()"
   ]
  },
  {
   "cell_type": "code",
   "execution_count": null,
   "metadata": {},
   "outputs": [],
   "source": [
    "file_name = 'North.ulg' # TODO: fill in file name\n",
    "ulog = ULog(file_name)\n",
    "data = ulog.data_list\n",
    "px4_ulog = PX4ULog(ulog)\n",
    "px4_ulog.add_roll_pitch_yaw()\n",
    "use_downsample = False\n",
    "\n",
    "print(\"message names: {:}\".format(sorted([d.name for d in data])))\n",
    "print_ulog_info(ulog)"
   ]
  },
  {
   "cell_type": "code",
   "execution_count": null,
   "metadata": {},
   "outputs": [],
   "source": [
    "use_downsample = True # you may want to activate this for large logs (But you will not see all samples when zooming in)"
   ]
  },
  {
   "cell_type": "code",
   "execution_count": null,
   "metadata": {},
   "outputs": [],
   "source": [
    "# load a dataset to inspect the field names and types\n",
    "sensor_data = [ elem for elem in data if elem.name == 'vehicle_local_position' and elem.multi_id == 0][0]\n",
    "types_list = [(f.type_str, f.field_name) for f in sensor_data.field_data]\n",
    "for ftype, fname in types_list: print(\"{:10s} {:}\".format(ftype, fname))"
   ]
  },
  {
   "cell_type": "code",
   "execution_count": null,
   "metadata": {},
   "outputs": [],
   "source": [
    " # thrust and magnetic field\n",
    "data_plot = DataPlot(data, plot_config, 'vehicle_magnetometer', y_start=0, title = 'Thrust and Magnetic Field',\n",
    "                     plot_height='normal')\n",
    "data_plot.add_graph([lambda data: ('len_mag', \n",
    "    np.sqrt(data['magnetometer_ga[0]']**2 + data['magnetometer_ga[1]']**2 + data['magnetometer_ga[2]']**2))],\n",
    "    colors2[0:1], ['Norm of Magnetic Field'], use_downsample=use_downsample)\n",
    "\n",
    "#added Theta and Phi \n",
    "#theta\n",
    "data_plot.add_graph([lambda data: ('len_mag', \n",
    "    (np.arctan(data['magnetometer_ga[1]']/ + data['magnetometer_ga[0]'])))],\n",
    "    colors8[6:7], ['Theta of Magnetic Field Radians'], use_downsample=use_downsample)\n",
    "#phi\n",
    "data_plot.add_graph([lambda data: ('len_mag', \n",
    "    (np.arctan((np.sqrt(data['magnetometer_ga[0]']**2 + data['magnetometer_ga[1]']**2))/data['magnetometer_ga[2]'])))],\n",
    "    colors8[7:8], ['Phi of Magnetic Field Radians'], use_downsample=use_downsample)\n",
    "                     \n",
    "\n",
    "data_plot.change_dataset('actuator_controls_0')\n",
    "data_plot.add_graph([lambda data: ('thrust', data['control[3]'])], colors2[1:2], ['Thrust'],\n",
    "                    use_downsample=use_downsample)\n",
    "\n",
    "show(data_plot.finalize())"
   ]
  },
  {
   "cell_type": "code",
   "execution_count": null,
   "metadata": {},
   "outputs": [],
   "source": [
    " # Theta and Phi Deg correlation to Thrust \n",
    "data_plot = DataPlot(data, plot_config, 'vehicle_magnetometer', y_start=0, title = 'Theta and Phi',\n",
    "                     plot_height='normal')    \n",
    "\n",
    "#theta\n",
    "data_plot.add_graph([lambda data: ('len_mag', \n",
    "    np.rad2deg(np.arctan(data['magnetometer_ga[1]']/ + data['magnetometer_ga[0]'])))],\n",
    "    colors8[6:7], ['Theta of Magnetic Field Degrees'], use_downsample=use_downsample)\n",
    "#phi\n",
    "data_plot.add_graph([lambda data: ('len_mag', \n",
    "    np.rad2deg(np.arctan((np.sqrt(data['magnetometer_ga[0]']**2 + data['magnetometer_ga[1]']**2))/data['magnetometer_ga[2]'])))],\n",
    "    colors8[7:8], ['Phi of Magnetic Field Degrees'], use_downsample=use_downsample)\n",
    "#Thrust\n",
    "data_plot.change_dataset('actuator_controls_0')\n",
    "data_plot.add_graph([lambda data: ('thrust',data['control[3]']*100)], colors2[1:2], ['Thrust x 100 (to see correlation)'],\n",
    "                    use_downsample=use_downsample)  \n",
    "\n",
    "\n",
    "\n",
    "show(data_plot.finalize())"
   ]
  },
  {
   "cell_type": "code",
   "execution_count": null,
   "metadata": {},
   "outputs": [],
   "source": [
    " # magnetic field strength\n",
    "data_plot = DataPlot(data, plot_config, magnetometer_ga_topic,\n",
    "                     y_axis_label='[gauss]', title='Raw Magnetic Field Strength',\n",
    "                     plot_height='small', changed_params=changed_params,\n",
    "                     x_range=x_range)\n",
    "data_plot.add_graph(['magnetometer_ga[0]', 'magnetometer_ga[1]',\n",
    "                     'magnetometer_ga[2]'], colors3,\n",
    "                      ['X', 'Y', 'Z'])\n",
    "if data_plot.finalize() is not None: plots.append(data_plot)"
   ]
  },
  {
   "cell_type": "code",
   "execution_count": null,
   "metadata": {},
   "outputs": [],
   "source": []
  }
 ],
 "metadata": {
  "kernelspec": {
   "display_name": "Python 3",
   "language": "python",
   "name": "python3"
  },
  "language_info": {
   "codemirror_mode": {
    "name": "ipython",
    "version": 3
   },
   "file_extension": ".py",
   "mimetype": "text/x-python",
   "name": "python",
   "nbconvert_exporter": "python",
   "pygments_lexer": "ipython3",
   "version": "3.7.4"
  }
 },
 "nbformat": 4,
 "nbformat_minor": 4
}
